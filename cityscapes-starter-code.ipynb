{
 "cells": [
  {
   "cell_type": "code",
   "execution_count": 1,
   "id": "6c7e2b60",
   "metadata": {
    "execution": {
     "iopub.execute_input": "2024-10-10T00:37:17.120407Z",
     "iopub.status.busy": "2024-10-10T00:37:17.119405Z",
     "iopub.status.idle": "2024-10-10T00:37:17.129921Z",
     "shell.execute_reply": "2024-10-10T00:37:17.129099Z"
    },
    "papermill": {
     "duration": 0.020645,
     "end_time": "2024-10-10T00:37:17.131869",
     "exception": false,
     "start_time": "2024-10-10T00:37:17.111224",
     "status": "completed"
    },
    "tags": []
   },
   "outputs": [],
   "source": [
    "from collections import namedtuple"
   ]
  },
  {
   "cell_type": "code",
   "execution_count": 2,
   "id": "1b0ea4ca",
   "metadata": {
    "execution": {
     "iopub.execute_input": "2024-10-10T00:37:17.145127Z",
     "iopub.status.busy": "2024-10-10T00:37:17.144831Z",
     "iopub.status.idle": "2024-10-10T00:37:17.170552Z",
     "shell.execute_reply": "2024-10-10T00:37:17.169185Z"
    },
    "papermill": {
     "duration": 0.034917,
     "end_time": "2024-10-10T00:37:17.172618",
     "exception": false,
     "start_time": "2024-10-10T00:37:17.137701",
     "status": "completed"
    },
    "tags": []
   },
   "outputs": [],
   "source": [
    "\n",
    "#--------------------------------------------------------------------------------\n",
    "# Definitions\n",
    "#--------------------------------------------------------------------------------\n",
    "\n",
    "# a label and all meta information\n",
    "Label = namedtuple( 'Label' , [\n",
    "\n",
    "    'name'        , # The identifier of this label, e.g. 'car', 'person', ... .\n",
    "                    # We use them to uniquely name a class\n",
    "\n",
    "    'id'          , # An integer ID that is associated with this label.\n",
    "                    # The IDs are used to represent the label in ground truth images\n",
    "                    # An ID of -1 means that this label does not have an ID and thus\n",
    "                    # is ignored when creating ground truth images (e.g. license plate).\n",
    "\n",
    "    'trainId'     , # An integer ID that overwrites the ID above, when creating ground truth\n",
    "                    # images for training.\n",
    "                    # For training, multiple labels might have the same ID. Then, these labels\n",
    "                    # are mapped to the same class in the ground truth images. For the inverse\n",
    "                    # mapping, we use the label that is defined first in the list below.\n",
    "                    # For example, mapping all void-type classes to the same ID in training,\n",
    "                    # might make sense for some approaches.\n",
    "\n",
    "    'category'    , # The name of the category that this label belongs to\n",
    "\n",
    "    'categoryId'  , # The ID of this category. Used to create ground truth images\n",
    "                    # on category level.\n",
    "\n",
    "    'hasInstances', # Whether this label distinguishes between single instances or not\n",
    "\n",
    "    'ignoreInEval', # Whether pixels having this class as ground truth label are ignored\n",
    "                    # during evaluations or not\n",
    "\n",
    "    'color'       , # The color of this label\n",
    "    ] )\n",
    "\n",
    "\n",
    "#--------------------------------------------------------------------------------\n",
    "# A list of all labels\n",
    "#--------------------------------------------------------------------------------\n",
    "\n",
    "# Please adapt the train IDs as appropriate for you approach.\n",
    "# Note that you might want to ignore labels with ID 255 during training.\n",
    "# Make sure to provide your results using the original IDs and not the training IDs.\n",
    "# Note that many IDs are ignored in evaluation and thus you never need to predict these!\n",
    "\n",
    "labels = [\n",
    "    #       name                     id    trainId   category            catId     hasInstances   ignoreInEval   color\n",
    "    Label(  'unlabeled'            ,  0 ,      255 , 'void'            , 0       , False        , True         , (  0,  0,  0) ),\n",
    "    Label(  'ego vehicle'          ,  1 ,      255 , 'void'            , 0       , False        , True         , (  0,  0,  0) ),\n",
    "    Label(  'rectification border' ,  2 ,      255 , 'void'            , 0       , False        , True         , (  0,  0,  0) ),\n",
    "    Label(  'out of roi'           ,  3 ,      255 , 'void'            , 0       , False        , True         , (  0,  0,  0) ),\n",
    "    Label(  'static'               ,  4 ,      255 , 'void'            , 0       , False        , True         , (  0,  0,  0) ),\n",
    "    Label(  'dynamic'              ,  5 ,      255 , 'void'            , 0       , False        , True         , (111, 74,  0) ),\n",
    "    Label(  'ground'               ,  6 ,      255 , 'void'            , 0       , False        , True         , ( 81,  0, 81) ),\n",
    "    Label(  'road'                 ,  7 ,        0 , 'ground'          , 1       , False        , False        , (128, 64,128) ),\n",
    "    Label(  'sidewalk'             ,  8 ,        1 , 'ground'          , 1       , False        , False        , (244, 35,232) ),\n",
    "    Label(  'parking'              ,  9 ,      255 , 'ground'          , 1       , False        , True         , (250,170,160) ),\n",
    "    Label(  'rail track'           , 10 ,      255 , 'ground'          , 1       , False        , True         , (230,150,140) ),\n",
    "    Label(  'building'             , 11 ,        2 , 'construction'    , 2       , False        , False        , ( 70, 70, 70) ),\n",
    "    Label(  'wall'                 , 12 ,        3 , 'construction'    , 2       , False        , False        , (102,102,156) ),\n",
    "    Label(  'fence'                , 13 ,        4 , 'construction'    , 2       , False        , False        , (190,153,153) ),\n",
    "    Label(  'guard rail'           , 14 ,      255 , 'construction'    , 2       , False        , True         , (180,165,180) ),\n",
    "    Label(  'bridge'               , 15 ,      255 , 'construction'    , 2       , False        , True         , (150,100,100) ),\n",
    "    Label(  'tunnel'               , 16 ,      255 , 'construction'    , 2       , False        , True         , (150,120, 90) ),\n",
    "    Label(  'pole'                 , 17 ,        5 , 'object'          , 3       , False        , False        , (153,153,153) ),\n",
    "    Label(  'polegroup'            , 18 ,      255 , 'object'          , 3       , False        , True         , (153,153,153) ),\n",
    "    Label(  'traffic light'        , 19 ,        6 , 'object'          , 3       , False        , False        , (250,170, 30) ),\n",
    "    Label(  'traffic sign'         , 20 ,        7 , 'object'          , 3       , False        , False        , (220,220,  0) ),\n",
    "    Label(  'vegetation'           , 21 ,        8 , 'nature'          , 4       , False        , False        , (107,142, 35) ),\n",
    "    Label(  'terrain'              , 22 ,        9 , 'nature'          , 4       , False        , False        , (152,251,152) ),\n",
    "    Label(  'sky'                  , 23 ,       10 , 'sky'             , 5       , False        , False        , ( 70,130,180) ),\n",
    "    Label(  'person'               , 24 ,       11 , 'human'           , 6       , True         , False        , (220, 20, 60) ),\n",
    "    Label(  'rider'                , 25 ,       12 , 'human'           , 6       , True         , False        , (255,  0,  0) ),\n",
    "    Label(  'car'                  , 26 ,       13 , 'vehicle'         , 7       , True         , False        , (  0,  0,142) ),\n",
    "    Label(  'truck'                , 27 ,       14 , 'vehicle'         , 7       , True         , False        , (  0,  0, 70) ),\n",
    "    Label(  'bus'                  , 28 ,       15 , 'vehicle'         , 7       , True         , False        , (  0, 60,100) ),\n",
    "    Label(  'caravan'              , 29 ,      255 , 'vehicle'         , 7       , True         , True         , (  0,  0, 90) ),\n",
    "    Label(  'trailer'              , 30 ,      255 , 'vehicle'         , 7       , True         , True         , (  0,  0,110) ),\n",
    "    Label(  'train'                , 31 ,       16 , 'vehicle'         , 7       , True         , False        , (  0, 80,100) ),\n",
    "    Label(  'motorcycle'           , 32 ,       17 , 'vehicle'         , 7       , True         , False        , (  0,  0,230) ),\n",
    "    Label(  'bicycle'              , 33 ,       18 , 'vehicle'         , 7       , True         , False        , (119, 11, 32) ),\n",
    "    Label(  'license plate'        , 34 ,       19 , 'vehicle'         , 7       , False        , True         , (  0,  0,142) ),\n",
    "]"
   ]
  },
  {
   "cell_type": "code",
   "execution_count": 3,
   "id": "f515077c",
   "metadata": {
    "execution": {
     "iopub.execute_input": "2024-10-10T00:37:17.185164Z",
     "iopub.status.busy": "2024-10-10T00:37:17.184856Z",
     "iopub.status.idle": "2024-10-10T00:37:17.189157Z",
     "shell.execute_reply": "2024-10-10T00:37:17.187966Z"
    },
    "papermill": {
     "duration": 0.013163,
     "end_time": "2024-10-10T00:37:17.191356",
     "exception": false,
     "start_time": "2024-10-10T00:37:17.178193",
     "status": "completed"
    },
    "tags": []
   },
   "outputs": [],
   "source": [
    "#TODO : Split the dataset into training and validation data\n",
    "#TODO : Save the split to csv file"
   ]
  },
  {
   "cell_type": "code",
   "execution_count": 4,
   "id": "cbda86f6",
   "metadata": {
    "execution": {
     "iopub.execute_input": "2024-10-10T00:37:17.203717Z",
     "iopub.status.busy": "2024-10-10T00:37:17.203417Z",
     "iopub.status.idle": "2024-10-10T00:37:17.207248Z",
     "shell.execute_reply": "2024-10-10T00:37:17.206385Z"
    },
    "papermill": {
     "duration": 0.012493,
     "end_time": "2024-10-10T00:37:17.209229",
     "exception": false,
     "start_time": "2024-10-10T00:37:17.196736",
     "status": "completed"
    },
    "tags": []
   },
   "outputs": [],
   "source": [
    "#PRINT SAMPLE FROM CSV_FILE"
   ]
  },
  {
   "cell_type": "code",
   "execution_count": 5,
   "id": "a71b062d",
   "metadata": {
    "execution": {
     "iopub.execute_input": "2024-10-10T00:37:17.221358Z",
     "iopub.status.busy": "2024-10-10T00:37:17.221048Z",
     "iopub.status.idle": "2024-10-10T00:37:17.224684Z",
     "shell.execute_reply": "2024-10-10T00:37:17.223916Z"
    },
    "papermill": {
     "duration": 0.011937,
     "end_time": "2024-10-10T00:37:17.226608",
     "exception": false,
     "start_time": "2024-10-10T00:37:17.214671",
     "status": "completed"
    },
    "tags": []
   },
   "outputs": [],
   "source": [
    "#TODO: write your own data analysis techniques"
   ]
  },
  {
   "cell_type": "code",
   "execution_count": 6,
   "id": "c6941bf9",
   "metadata": {
    "execution": {
     "iopub.execute_input": "2024-10-10T00:37:17.239125Z",
     "iopub.status.busy": "2024-10-10T00:37:17.238819Z",
     "iopub.status.idle": "2024-10-10T00:37:17.243084Z",
     "shell.execute_reply": "2024-10-10T00:37:17.242260Z"
    },
    "papermill": {
     "duration": 0.013062,
     "end_time": "2024-10-10T00:37:17.245226",
     "exception": false,
     "start_time": "2024-10-10T00:37:17.232164",
     "status": "completed"
    },
    "tags": []
   },
   "outputs": [],
   "source": [
    "#Example for the desired interface \n",
    "\n",
    "#class LoadImage():\n",
    "#    def __init__(self,keys):\n",
    "#        self.keys=keys\n",
    "#    def __call__(self,sample):\n",
    "#        for key in self.keys:\n",
    "#            sample[key]=cv2.loadImage()\n",
    "#        return sample"
   ]
  },
  {
   "cell_type": "code",
   "execution_count": 7,
   "id": "f060d148",
   "metadata": {
    "execution": {
     "iopub.execute_input": "2024-10-10T00:37:17.257889Z",
     "iopub.status.busy": "2024-10-10T00:37:17.257379Z",
     "iopub.status.idle": "2024-10-10T00:37:17.261968Z",
     "shell.execute_reply": "2024-10-10T00:37:17.261079Z"
    },
    "papermill": {
     "duration": 0.01307,
     "end_time": "2024-10-10T00:37:17.263891",
     "exception": false,
     "start_time": "2024-10-10T00:37:17.250821",
     "status": "completed"
    },
    "tags": []
   },
   "outputs": [],
   "source": [
    "#TODO : TRAIN DATA PREPROCESSING PIPELINE\n",
    "#Train_data_transform=Compose([\n",
    "#    LoadImage( keys= ['image','mask'] ),\n",
    "    \n",
    "    #Write your own data transforms and augmentations\n",
    "\n",
    "#])\n",
    "\n",
    "\n",
    "#TODO : VALIDATION DATA PREPROCESSING PIPELINE\n",
    "\n",
    "\n",
    "#Valid_data_transform=Compose([\n",
    "#    LoadImage(['image','mask']),\n",
    "    \n",
    "    #Write your own data transforms and augmentations\n",
    "\n",
    "#])\n",
    "\n",
    "#TODO : TEST DATA PREPROCESSING PIPELINE\n",
    "\n",
    "\n",
    "#Test_data_transform=Compose([\n",
    "#    LoadImage(['image','mask']),\n",
    "    \n",
    "    #Write your own data transforms and augmentations\n",
    "\n",
    "#])"
   ]
  },
  {
   "cell_type": "code",
   "execution_count": 8,
   "id": "026dcb59",
   "metadata": {
    "execution": {
     "iopub.execute_input": "2024-10-10T00:37:17.277253Z",
     "iopub.status.busy": "2024-10-10T00:37:17.276493Z",
     "iopub.status.idle": "2024-10-10T00:37:22.520767Z",
     "shell.execute_reply": "2024-10-10T00:37:22.519701Z"
    },
    "papermill": {
     "duration": 5.25408,
     "end_time": "2024-10-10T00:37:22.523291",
     "exception": false,
     "start_time": "2024-10-10T00:37:17.269211",
     "status": "completed"
    },
    "tags": []
   },
   "outputs": [],
   "source": [
    "import re\n",
    "from torch.utils.data import DataLoader, Dataset\n",
    "import pandas as pd\n",
    "from typing import List\n",
    "from torchvision.transforms import Compose\n",
    "\n",
    "\n",
    "class Dataset(Dataset):\n",
    "    def __init__(self, input_dataframe: pd.DataFrame, KeysOfInterest: List[str], data_transform:Compose): # TODO: add parameters if needed\n",
    "        self.koi = KeysOfInterest\n",
    "        self.input_dataframe = input_dataframe[self.koi]\n",
    "        self.data_transform=data_transform\n",
    "\n",
    "    def __getitem__(self, item: int):\n",
    "        pass\n",
    "        #TODO : write this function\n",
    "        \n",
    "    def __len__(self):\n",
    "        return len(self.input_dataframe)"
   ]
  },
  {
   "cell_type": "code",
   "execution_count": 9,
   "id": "f9e44b1f",
   "metadata": {
    "execution": {
     "iopub.execute_input": "2024-10-10T00:37:22.537512Z",
     "iopub.status.busy": "2024-10-10T00:37:22.536541Z",
     "iopub.status.idle": "2024-10-10T00:37:22.541194Z",
     "shell.execute_reply": "2024-10-10T00:37:22.540216Z"
    },
    "papermill": {
     "duration": 0.013859,
     "end_time": "2024-10-10T00:37:22.543168",
     "exception": false,
     "start_time": "2024-10-10T00:37:22.529309",
     "status": "completed"
    },
    "tags": []
   },
   "outputs": [],
   "source": [
    "#TODO : Initilize your datasets\n",
    "\n",
    "#ds_train=Dataset(input_dataframe=csv_train,\n",
    "#                 root_dir=\"\",\n",
    "#                 KeysOfInterest=[\"\",\"\"],\n",
    "#                 data_transform=train_data_transform)\n"
   ]
  },
  {
   "cell_type": "code",
   "execution_count": 10,
   "id": "b6846def",
   "metadata": {
    "execution": {
     "iopub.execute_input": "2024-10-10T00:37:22.556449Z",
     "iopub.status.busy": "2024-10-10T00:37:22.555988Z",
     "iopub.status.idle": "2024-10-10T00:37:22.560210Z",
     "shell.execute_reply": "2024-10-10T00:37:22.559263Z"
    },
    "papermill": {
     "duration": 0.013462,
     "end_time": "2024-10-10T00:37:22.562360",
     "exception": false,
     "start_time": "2024-10-10T00:37:22.548898",
     "status": "completed"
    },
    "tags": []
   },
   "outputs": [],
   "source": [
    "#dl_train=DataLoader(dataset=ds_train,batch_size= 2 ,num_workers=8 ,prefetch_factor=8,shuffle=True)"
   ]
  },
  {
   "cell_type": "code",
   "execution_count": 11,
   "id": "5ad4db51",
   "metadata": {
    "execution": {
     "iopub.execute_input": "2024-10-10T00:37:22.575170Z",
     "iopub.status.busy": "2024-10-10T00:37:22.574825Z",
     "iopub.status.idle": "2024-10-10T00:37:22.579226Z",
     "shell.execute_reply": "2024-10-10T00:37:22.578196Z"
    },
    "papermill": {
     "duration": 0.013372,
     "end_time": "2024-10-10T00:37:22.581346",
     "exception": false,
     "start_time": "2024-10-10T00:37:22.567974",
     "status": "completed"
    },
    "tags": []
   },
   "outputs": [],
   "source": [
    "#TODO : Show samples from your data loaders"
   ]
  },
  {
   "cell_type": "code",
   "execution_count": 12,
   "id": "00117ae8",
   "metadata": {
    "execution": {
     "iopub.execute_input": "2024-10-10T00:37:22.594433Z",
     "iopub.status.busy": "2024-10-10T00:37:22.594060Z",
     "iopub.status.idle": "2024-10-10T00:37:22.598688Z",
     "shell.execute_reply": "2024-10-10T00:37:22.597539Z"
    },
    "papermill": {
     "duration": 0.013918,
     "end_time": "2024-10-10T00:37:22.601207",
     "exception": false,
     "start_time": "2024-10-10T00:37:22.587289",
     "status": "completed"
    },
    "tags": []
   },
   "outputs": [],
   "source": [
    "#TODO : Write the model you are going to use (Pytorch)"
   ]
  },
  {
   "cell_type": "code",
   "execution_count": 13,
   "id": "ce9ff66a",
   "metadata": {
    "execution": {
     "iopub.execute_input": "2024-10-10T00:37:22.614160Z",
     "iopub.status.busy": "2024-10-10T00:37:22.613818Z",
     "iopub.status.idle": "2024-10-10T00:37:22.617978Z",
     "shell.execute_reply": "2024-10-10T00:37:22.617085Z"
    },
    "papermill": {
     "duration": 0.013288,
     "end_time": "2024-10-10T00:37:22.620334",
     "exception": false,
     "start_time": "2024-10-10T00:37:22.607046",
     "status": "completed"
    },
    "tags": []
   },
   "outputs": [],
   "source": [
    "#TODO : Write the loss function you are going to use"
   ]
  },
  {
   "cell_type": "code",
   "execution_count": 14,
   "id": "3ed882c7",
   "metadata": {
    "execution": {
     "iopub.execute_input": "2024-10-10T00:37:22.632795Z",
     "iopub.status.busy": "2024-10-10T00:37:22.632286Z",
     "iopub.status.idle": "2024-10-10T00:37:22.636137Z",
     "shell.execute_reply": "2024-10-10T00:37:22.635274Z"
    },
    "papermill": {
     "duration": 0.012317,
     "end_time": "2024-10-10T00:37:22.638094",
     "exception": false,
     "start_time": "2024-10-10T00:37:22.625777",
     "status": "completed"
    },
    "tags": []
   },
   "outputs": [],
   "source": [
    "#TODO : Write the evaluation metrics you are going to use"
   ]
  },
  {
   "cell_type": "code",
   "execution_count": 15,
   "id": "82515197",
   "metadata": {
    "execution": {
     "iopub.execute_input": "2024-10-10T00:37:22.650408Z",
     "iopub.status.busy": "2024-10-10T00:37:22.650041Z",
     "iopub.status.idle": "2024-10-10T00:37:22.653802Z",
     "shell.execute_reply": "2024-10-10T00:37:22.653042Z"
    },
    "papermill": {
     "duration": 0.011946,
     "end_time": "2024-10-10T00:37:22.655720",
     "exception": false,
     "start_time": "2024-10-10T00:37:22.643774",
     "status": "completed"
    },
    "tags": []
   },
   "outputs": [],
   "source": [
    "#TODO : Write your own Training loop using pytorch"
   ]
  },
  {
   "cell_type": "code",
   "execution_count": 16,
   "id": "f908ee8b",
   "metadata": {
    "execution": {
     "iopub.execute_input": "2024-10-10T00:37:22.668057Z",
     "iopub.status.busy": "2024-10-10T00:37:22.667760Z",
     "iopub.status.idle": "2024-10-10T00:37:22.671719Z",
     "shell.execute_reply": "2024-10-10T00:37:22.670729Z"
    },
    "papermill": {
     "duration": 0.012179,
     "end_time": "2024-10-10T00:37:22.673725",
     "exception": false,
     "start_time": "2024-10-10T00:37:22.661546",
     "status": "completed"
    },
    "tags": []
   },
   "outputs": [],
   "source": [
    "#TODO : Plot losses and metrics graphs"
   ]
  },
  {
   "cell_type": "code",
   "execution_count": 17,
   "id": "c8975f68",
   "metadata": {
    "execution": {
     "iopub.execute_input": "2024-10-10T00:37:22.685782Z",
     "iopub.status.busy": "2024-10-10T00:37:22.685486Z",
     "iopub.status.idle": "2024-10-10T00:37:22.689276Z",
     "shell.execute_reply": "2024-10-10T00:37:22.688381Z"
    },
    "papermill": {
     "duration": 0.012057,
     "end_time": "2024-10-10T00:37:22.691283",
     "exception": false,
     "start_time": "2024-10-10T00:37:22.679226",
     "status": "completed"
    },
    "tags": []
   },
   "outputs": [],
   "source": [
    "#TODO : Test your model and show some samples"
   ]
  }
 ],
 "metadata": {
  "kaggle": {
   "accelerator": "none",
   "dataSources": [
    {
     "datasetId": 5848669,
     "sourceId": 9589700,
     "sourceType": "datasetVersion"
    }
   ],
   "isGpuEnabled": false,
   "isInternetEnabled": true,
   "language": "python",
   "sourceType": "notebook"
  },
  "kernelspec": {
   "display_name": "Python 3",
   "language": "python",
   "name": "python3"
  },
  "language_info": {
   "codemirror_mode": {
    "name": "ipython",
    "version": 3
   },
   "file_extension": ".py",
   "mimetype": "text/x-python",
   "name": "python",
   "nbconvert_exporter": "python",
   "pygments_lexer": "ipython3",
   "version": "3.10.14"
  },
  "papermill": {
   "default_parameters": {},
   "duration": 9.369254,
   "end_time": "2024-10-10T00:37:23.817668",
   "environment_variables": {},
   "exception": null,
   "input_path": "__notebook__.ipynb",
   "output_path": "__notebook__.ipynb",
   "parameters": {},
   "start_time": "2024-10-10T00:37:14.448414",
   "version": "2.6.0"
  }
 },
 "nbformat": 4,
 "nbformat_minor": 5
}
